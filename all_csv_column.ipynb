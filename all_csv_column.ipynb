{
 "cells": [
  {
   "cell_type": "markdown",
   "metadata": {},
   "source": [
    "### All CSV File with Column"
   ]
  },
  {
   "cell_type": "code",
   "execution_count": 2,
   "metadata": {},
   "outputs": [],
   "source": [
    "import pandas as pd"
   ]
  },
  {
   "cell_type": "markdown",
   "metadata": {},
   "source": [
    "### Customers"
   ]
  },
  {
   "cell_type": "code",
   "execution_count": 4,
   "metadata": {},
   "outputs": [
    {
     "name": "stdout",
     "output_type": "stream",
     "text": [
      "customer_id\n",
      "customer_unique_id\n",
      "customer_zip_code_prefix\n",
      "customer_city\n",
      "customer_state\n"
     ]
    }
   ],
   "source": [
    "customers = pd.read_csv(\"./customers.csv\")\n",
    "for column in customers.columns:\n",
    "    print(column)"
   ]
  },
  {
   "cell_type": "markdown",
   "metadata": {},
   "source": [
    "## Geolocation"
   ]
  },
  {
   "cell_type": "code",
   "execution_count": 5,
   "metadata": {},
   "outputs": [
    {
     "name": "stdout",
     "output_type": "stream",
     "text": [
      "geolocation_zip_code_prefix\n",
      "geolocation_lat\n",
      "geolocation_lng\n",
      "geolocation_city\n",
      "geolocation_state\n"
     ]
    }
   ],
   "source": [
    "geolocation = pd.read_csv(\"./geolocation.csv\")\n",
    "for column in geolocation.columns:\n",
    "    print(column)"
   ]
  },
  {
   "cell_type": "markdown",
   "metadata": {},
   "source": [
    "### Order_items"
   ]
  },
  {
   "cell_type": "code",
   "execution_count": 6,
   "metadata": {},
   "outputs": [
    {
     "name": "stdout",
     "output_type": "stream",
     "text": [
      "order_id\n",
      "order_item_id\n",
      "product_id\n",
      "seller_id\n",
      "shipping_limit_date\n",
      "price\n",
      "freight_value\n"
     ]
    }
   ],
   "source": [
    "item = pd.read_csv(\"./order_items.csv\")\n",
    "for column in item.columns:\n",
    "    print(column)"
   ]
  },
  {
   "cell_type": "markdown",
   "metadata": {},
   "source": [
    "### Orders"
   ]
  },
  {
   "cell_type": "code",
   "execution_count": 7,
   "metadata": {},
   "outputs": [
    {
     "name": "stdout",
     "output_type": "stream",
     "text": [
      "order_id\n",
      "customer_id\n",
      "order_status\n",
      "order_purchase_timestamp\n",
      "order_approved_at\n",
      "order_delivered_carrier_date\n",
      "order_delivered_customer_date\n",
      "order_estimated_delivery_date\n"
     ]
    }
   ],
   "source": [
    "orders = pd.read_csv(\"./orders.csv\")\n",
    "for column in orders.columns:\n",
    "    print(column)"
   ]
  },
  {
   "cell_type": "markdown",
   "metadata": {},
   "source": [
    "### Payments"
   ]
  },
  {
   "cell_type": "code",
   "execution_count": 8,
   "metadata": {},
   "outputs": [
    {
     "name": "stdout",
     "output_type": "stream",
     "text": [
      "order_id\n",
      "payment_sequential\n",
      "payment_type\n",
      "payment_installments\n",
      "payment_value\n"
     ]
    }
   ],
   "source": [
    "payments = pd.read_csv(\"./payments.csv\")\n",
    "for column in payments.columns:\n",
    "    print(column)"
   ]
  },
  {
   "cell_type": "markdown",
   "metadata": {},
   "source": [
    "### Products"
   ]
  },
  {
   "cell_type": "code",
   "execution_count": 9,
   "metadata": {},
   "outputs": [
    {
     "name": "stdout",
     "output_type": "stream",
     "text": [
      "product_id\n",
      "product category\n",
      "product_name_length\n",
      "product_description_length\n",
      "product_photos_qty\n",
      "product_weight_g\n",
      "product_length_cm\n",
      "product_height_cm\n",
      "product_width_cm\n"
     ]
    }
   ],
   "source": [
    "products = pd.read_csv(\"./products.csv\")\n",
    "for column in products.columns:\n",
    "    print(column)"
   ]
  },
  {
   "cell_type": "markdown",
   "metadata": {},
   "source": [
    "### Sellers Details"
   ]
  },
  {
   "cell_type": "code",
   "execution_count": 10,
   "metadata": {},
   "outputs": [
    {
     "name": "stdout",
     "output_type": "stream",
     "text": [
      "seller_id\n",
      "seller_zip_code_prefix\n",
      "seller_city\n",
      "seller_state\n"
     ]
    }
   ],
   "source": [
    "sellers = pd.read_csv(\"./sellers.csv\")\n",
    "for column in sellers.columns:\n",
    "    print(column)"
   ]
  },
  {
   "cell_type": "markdown",
   "metadata": {},
   "source": []
  },
  {
   "cell_type": "code",
   "execution_count": null,
   "metadata": {},
   "outputs": [],
   "source": []
  }
 ],
 "metadata": {
  "kernelspec": {
   "display_name": "Python 3",
   "language": "python",
   "name": "python3"
  },
  "language_info": {
   "codemirror_mode": {
    "name": "ipython",
    "version": 3
   },
   "file_extension": ".py",
   "mimetype": "text/x-python",
   "name": "python",
   "nbconvert_exporter": "python",
   "pygments_lexer": "ipython3",
   "version": "3.12.3"
  }
 },
 "nbformat": 4,
 "nbformat_minor": 2
}
