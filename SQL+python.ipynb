{
 "cells": [
  {
   "cell_type": "markdown",
   "metadata": {},
   "source": [
    "### E-Commerce Sales Data Analysis"
   ]
  },
  {
   "cell_type": "code",
   "execution_count": 136,
   "metadata": {},
   "outputs": [],
   "source": [
    "import pandas as pd\n",
    "import numpy as np\n",
    "import seaborn as sns\n",
    "import matplotlib.pyplot as plt\n",
    "import psycopg2 as pst"
   ]
  },
  {
   "cell_type": "markdown",
   "metadata": {},
   "source": [
    "## Connect SQL"
   ]
  },
  {
   "cell_type": "code",
   "execution_count": 137,
   "metadata": {},
   "outputs": [
    {
     "name": "stdout",
     "output_type": "stream",
     "text": [
      "('PostgreSQL 17.0 on x86_64-windows, compiled by msvc-19.41.34120, 64-bit',)\n"
     ]
    }
   ],
   "source": [
    "import psycopg2\n",
    "\n",
    "# Define connection parameters\n",
    "conn = psycopg2.connect(\n",
    "    host=\"localhost\",\n",
    "    user=\"postgres\",\n",
    "    password=\"mohammad\",\n",
    "    dbname=\"E-Commerce\",\n",
    "    port=\"5432\"  # PostgreSQL default port is 5432\n",
    ")\n",
    "\n",
    "# Create a cursor to interact with the database\n",
    "cur = conn.cursor()\n",
    "\n",
    "# Example: Run a query\n",
    "cur.execute(\"SELECT version();\")\n",
    "print(cur.fetchone())\n"
   ]
  },
  {
   "cell_type": "markdown",
   "metadata": {},
   "source": [
    "### Basic Question"
   ]
  },
  {
   "cell_type": "markdown",
   "metadata": {},
   "source": [
    "#### Q1. 1. List all unique cities where customers are located."
   ]
  },
  {
   "cell_type": "code",
   "execution_count": 138,
   "metadata": {},
   "outputs": [
    {
     "data": {
      "text/html": [
       "<div>\n",
       "<style scoped>\n",
       "    .dataframe tbody tr th:only-of-type {\n",
       "        vertical-align: middle;\n",
       "    }\n",
       "\n",
       "    .dataframe tbody tr th {\n",
       "        vertical-align: top;\n",
       "    }\n",
       "\n",
       "    .dataframe thead th {\n",
       "        text-align: right;\n",
       "    }\n",
       "</style>\n",
       "<table border=\"1\" class=\"dataframe\">\n",
       "  <thead>\n",
       "    <tr style=\"text-align: right;\">\n",
       "      <th></th>\n",
       "      <th>city_name</th>\n",
       "    </tr>\n",
       "  </thead>\n",
       "  <tbody>\n",
       "    <tr>\n",
       "      <th>0</th>\n",
       "      <td>bom jardim de minas</td>\n",
       "    </tr>\n",
       "    <tr>\n",
       "      <th>1</th>\n",
       "      <td>alto rio doce</td>\n",
       "    </tr>\n",
       "    <tr>\n",
       "      <th>2</th>\n",
       "      <td>alvorada do gurgueia</td>\n",
       "    </tr>\n",
       "    <tr>\n",
       "      <th>3</th>\n",
       "      <td>batatais</td>\n",
       "    </tr>\n",
       "    <tr>\n",
       "      <th>4</th>\n",
       "      <td>capao da porteira</td>\n",
       "    </tr>\n",
       "  </tbody>\n",
       "</table>\n",
       "</div>"
      ],
      "text/plain": [
       "              city_name\n",
       "0   bom jardim de minas\n",
       "1         alto rio doce\n",
       "2  alvorada do gurgueia\n",
       "3              batatais\n",
       "4     capao da porteira"
      ]
     },
     "execution_count": 138,
     "metadata": {},
     "output_type": "execute_result"
    }
   ],
   "source": [
    "query = \"\"\"select distinct customer_city from customers\"\"\"\n",
    "cur.execute(query)\n",
    "data = cur.fetchall()\n",
    "\n",
    "c =[city[0] for city in data]\n",
    "city_list = pd.DataFrame(c,columns=['city_name'])\n",
    "city_list.head()"
   ]
  },
  {
   "cell_type": "markdown",
   "metadata": {},
   "source": [
    "### 2. Count the number of orders placed in 2017."
   ]
  },
  {
   "cell_type": "code",
   "execution_count": 139,
   "metadata": {},
   "outputs": [
    {
     "name": "stdout",
     "output_type": "stream",
     "text": [
      "Orders placed in 2017 is 45101.\n"
     ]
    }
   ],
   "source": [
    "query = \"\"\"select count(order_id) from orders where extract(year from order_purchase_timestamp::date) = 2017\"\"\"\n",
    "cur.execute(query)\n",
    "data = cur.fetchall()\n",
    "data[0][0]\n",
    "\n",
    "print(f\"Orders placed in 2017 is {data[0][0]}.\")"
   ]
  },
  {
   "cell_type": "markdown",
   "metadata": {},
   "source": [
    "### 3. Find the total sales per category."
   ]
  },
  {
   "cell_type": "code",
   "execution_count": 140,
   "metadata": {},
   "outputs": [
    {
     "data": {
      "text/html": [
       "<div>\n",
       "<style scoped>\n",
       "    .dataframe tbody tr th:only-of-type {\n",
       "        vertical-align: middle;\n",
       "    }\n",
       "\n",
       "    .dataframe tbody tr th {\n",
       "        vertical-align: top;\n",
       "    }\n",
       "\n",
       "    .dataframe thead th {\n",
       "        text-align: right;\n",
       "    }\n",
       "</style>\n",
       "<table border=\"1\" class=\"dataframe\">\n",
       "  <thead>\n",
       "    <tr style=\"text-align: right;\">\n",
       "      <th></th>\n",
       "      <th>Category</th>\n",
       "      <th>Total_sales</th>\n",
       "    </tr>\n",
       "  </thead>\n",
       "  <tbody>\n",
       "    <tr>\n",
       "      <th>0</th>\n",
       "      <td>bed table bath</td>\n",
       "      <td>1712550.00</td>\n",
       "    </tr>\n",
       "    <tr>\n",
       "      <th>1</th>\n",
       "      <td>HEALTH BEAUTY</td>\n",
       "      <td>1657370.00</td>\n",
       "    </tr>\n",
       "    <tr>\n",
       "      <th>2</th>\n",
       "      <td>computer accessories</td>\n",
       "      <td>1585330.00</td>\n",
       "    </tr>\n",
       "    <tr>\n",
       "      <th>3</th>\n",
       "      <td>Furniture Decoration</td>\n",
       "      <td>1430170.00</td>\n",
       "    </tr>\n",
       "    <tr>\n",
       "      <th>4</th>\n",
       "      <td>Watches present</td>\n",
       "      <td>1429210.00</td>\n",
       "    </tr>\n",
       "    <tr>\n",
       "      <th>...</th>\n",
       "      <td>...</td>\n",
       "      <td>...</td>\n",
       "    </tr>\n",
       "    <tr>\n",
       "      <th>69</th>\n",
       "      <td>PC Gamer</td>\n",
       "      <td>2174.43</td>\n",
       "    </tr>\n",
       "    <tr>\n",
       "      <th>70</th>\n",
       "      <td>House Comfort 2</td>\n",
       "      <td>1710.54</td>\n",
       "    </tr>\n",
       "    <tr>\n",
       "      <th>71</th>\n",
       "      <td>cds music dvds</td>\n",
       "      <td>1199.43</td>\n",
       "    </tr>\n",
       "    <tr>\n",
       "      <th>72</th>\n",
       "      <td>Fashion Children's Clothing</td>\n",
       "      <td>785.67</td>\n",
       "    </tr>\n",
       "    <tr>\n",
       "      <th>73</th>\n",
       "      <td>insurance and services</td>\n",
       "      <td>324.51</td>\n",
       "    </tr>\n",
       "  </tbody>\n",
       "</table>\n",
       "<p>74 rows × 2 columns</p>\n",
       "</div>"
      ],
      "text/plain": [
       "                       Category Total_sales\n",
       "0                bed table bath  1712550.00\n",
       "1                 HEALTH BEAUTY  1657370.00\n",
       "2          computer accessories  1585330.00\n",
       "3          Furniture Decoration  1430170.00\n",
       "4               Watches present  1429210.00\n",
       "..                          ...         ...\n",
       "69                     PC Gamer     2174.43\n",
       "70              House Comfort 2     1710.54\n",
       "71               cds music dvds     1199.43\n",
       "72  Fashion Children's Clothing      785.67\n",
       "73       insurance and services      324.51\n",
       "\n",
       "[74 rows x 2 columns]"
      ]
     },
     "execution_count": 140,
     "metadata": {},
     "output_type": "execute_result"
    }
   ],
   "source": [
    "query = \"\"\"select products.product_category as Category, round(sum(payments.payment_value)::numeric,2) as sales from delivery as dv\n",
    "join orders on orders.order_id = dv.order_id\n",
    "join payments on payments.order_id = orders.order_id\n",
    "join products on products.product_id = dv.product_id\n",
    "group by Category order by sales desc;\"\"\"\n",
    "cur.execute(query)\n",
    "data = cur.fetchall()\n",
    "total_sales = pd.DataFrame(data, columns=['Category', 'Total_sales'])\n",
    "total_sales"
   ]
  },
  {
   "cell_type": "markdown",
   "metadata": {},
   "source": [
    "### 4. Calculate the percentage of orders that were paid in installments."
   ]
  },
  {
   "cell_type": "code",
   "execution_count": 141,
   "metadata": {},
   "outputs": [
    {
     "name": "stdout",
     "output_type": "stream",
     "text": [
      "Percentage of paid in installments is 99% .\n"
     ]
    }
   ],
   "source": [
    "query = \"\"\"select (sum(case when payment_installments >= 1 then 1 else 0 end))*100/count(*) as installment_per from payments\"\"\"\n",
    "cur.execute(query)\n",
    "data = cur.fetchall()\n",
    "data[0][0]\n",
    "print(f\"Percentage of paid in installments is {data[0][0]}% .\")"
   ]
  },
  {
   "cell_type": "markdown",
   "metadata": {},
   "source": [
    "### 5. Count the number of customers from each state. "
   ]
  },
  {
   "cell_type": "code",
   "execution_count": 142,
   "metadata": {},
   "outputs": [
    {
     "data": {
      "image/png": "[encoded data removed]",
      "text/plain": [
       "<Figure size 1000x500 with 1 Axes>"
      ]
     },
     "metadata": {},
     "output_type": "display_data"
    }
   ],
   "source": [
    "query = \"\"\"select customer_state, count(customer_id) as count_cus\n",
    "from customers\n",
    "group by customer_state\n",
    "order by count_cus desc\"\"\"\n",
    "\n",
    "cur.execute(query)\n",
    "data = cur.fetchall()\n",
    "data\n",
    "\n",
    "cus_each_state = pd.DataFrame(data, columns=['State','No of Customer'])\n",
    "top_5_state = cus_each_state.head()\n",
    "top_5_state\n",
    "\n",
    "plt.figure(figsize=(10,5))\n",
    "# plt.bar(top_5_state['State'],top_5_state['No of Customer'])\n",
    "ax = sns.barplot(data=top_5_state,x='State',y='No of Customer')\n",
    "for col in ax.containers:\n",
    "    ax.bar_label(col)\n",
    "plt.show()"
   ]
  },
  {
   "cell_type": "markdown",
   "metadata": {},
   "source": [
    "## Intermediate Queries"
   ]
  },
  {
   "cell_type": "markdown",
   "metadata": {},
   "source": [
    "## 1. Calculate the number of orders per month in 2018."
   ]
  },
  {
   "cell_type": "code",
   "execution_count": 143,
   "metadata": {},
   "outputs": [
    {
     "name": "stderr",
     "output_type": "stream",
     "text": [
      "C:\\Users\\moham\\AppData\\Local\\Temp\\ipykernel_22112\\993485831.py:18: FutureWarning: \n",
      "\n",
      "Passing `palette` without assigning `hue` is deprecated and will be removed in v0.14.0. Assign the `x` variable to `hue` and set `legend=False` for the same effect.\n",
      "\n",
      "  ax = sns.barplot(data=df,x='Month',y='No of Orders',palette='viridis')\n"
     ]
    },
    {
     "data": {
      "image/png": "[encoded data removed]",
      "text/plain": [
       "<Figure size 1000x500 with 1 Axes>"
      ]
     },
     "metadata": {},
     "output_type": "display_data"
    }
   ],
   "source": [
    "query = \"\"\"SELECT \n",
    "    TO_CHAR(order_purchase_timestamp::timestamp, 'Month') AS month_name,\n",
    "    COUNT(order_id) AS no_of_order\n",
    "FROM \n",
    "    orders\n",
    "WHERE \n",
    "    EXTRACT(YEAR FROM order_purchase_timestamp::date) = 2018\n",
    "GROUP BY \n",
    "    month_name\n",
    "ORDER BY \n",
    "    no_of_order DESC;\"\"\"\n",
    "    \n",
    "cur.execute(query)\n",
    "data = cur.fetchall()\n",
    "df = pd.DataFrame(data, columns=['Month','No of Orders'])\n",
    "df\n",
    "plt.figure(figsize=(10,5))\n",
    "ax = sns.barplot(data=df,x='Month',y='No of Orders',palette='viridis')\n",
    "for col in ax.containers:\n",
    "    ax.bar_label(col)\n",
    "plt.ylabel('Number of Orders')\n",
    "plt.xlabel(\"Month\")\n",
    "plt.title(\"Orders By Month in 2018\")\n",
    "plt.show()\n"
   ]
  },
  {
   "cell_type": "markdown",
   "metadata": {},
   "source": [
    "### 2. Find the average number of products per order, grouped by customer city."
   ]
  },
  {
   "cell_type": "code",
   "execution_count": 144,
   "metadata": {},
   "outputs": [
    {
     "data": {
      "text/html": [
       "<div>\n",
       "<style scoped>\n",
       "    .dataframe tbody tr th:only-of-type {\n",
       "        vertical-align: middle;\n",
       "    }\n",
       "\n",
       "    .dataframe tbody tr th {\n",
       "        vertical-align: top;\n",
       "    }\n",
       "\n",
       "    .dataframe thead th {\n",
       "        text-align: right;\n",
       "    }\n",
       "</style>\n",
       "<table border=\"1\" class=\"dataframe\">\n",
       "  <thead>\n",
       "    <tr style=\"text-align: right;\">\n",
       "      <th></th>\n",
       "      <th>City</th>\n",
       "      <th>avg_products_per_order</th>\n",
       "    </tr>\n",
       "  </thead>\n",
       "  <tbody>\n",
       "    <tr>\n",
       "      <th>0</th>\n",
       "      <td>datas</td>\n",
       "      <td>6.00</td>\n",
       "    </tr>\n",
       "    <tr>\n",
       "      <th>1</th>\n",
       "      <td>candido godoi</td>\n",
       "      <td>6.00</td>\n",
       "    </tr>\n",
       "    <tr>\n",
       "      <th>2</th>\n",
       "      <td>matias olimpio</td>\n",
       "      <td>5.00</td>\n",
       "    </tr>\n",
       "    <tr>\n",
       "      <th>3</th>\n",
       "      <td>morro de sao paulo</td>\n",
       "      <td>4.00</td>\n",
       "    </tr>\n",
       "    <tr>\n",
       "      <th>4</th>\n",
       "      <td>cidelandia</td>\n",
       "      <td>4.00</td>\n",
       "    </tr>\n",
       "  </tbody>\n",
       "</table>\n",
       "</div>"
      ],
      "text/plain": [
       "                 City avg_products_per_order\n",
       "0               datas                   6.00\n",
       "1       candido godoi                   6.00\n",
       "2      matias olimpio                   5.00\n",
       "3  morro de sao paulo                   4.00\n",
       "4          cidelandia                   4.00"
      ]
     },
     "execution_count": 144,
     "metadata": {},
     "output_type": "execute_result"
    }
   ],
   "source": [
    "query = \"\"\"-- Drop the view if it exists\n",
    "DROP VIEW IF EXISTS product_count;\n",
    "\n",
    "-- Create the view to calculate the count of products per order\n",
    "CREATE VIEW product_count AS (\n",
    "    SELECT \n",
    "        orders.order_id, \n",
    "        delivery.product_id, \n",
    "        COUNT(delivery.product_id) AS p_count \n",
    "    FROM \n",
    "        orders\n",
    "    JOIN \n",
    "        delivery ON delivery.order_id = orders.order_id\n",
    "    GROUP BY \n",
    "        orders.order_id, delivery.product_id\n",
    ");\n",
    "\n",
    "-- Calculate the average number of products per order, grouped by customer city\n",
    "SELECT \n",
    "    customers.customer_city AS cus_city, \n",
    "    round(AVG(product_count.p_count),2) AS avg_products_per_order\n",
    "FROM \n",
    "    customers\n",
    "JOIN \n",
    "    orders ON orders.customer_id = customers.customer_id\n",
    "JOIN \n",
    "    product_count ON orders.order_id = product_count.order_id\n",
    "GROUP BY \n",
    "    cus_city\n",
    "ORDER BY \n",
    "    avg_products_per_order DESC;\"\"\"\n",
    "    \n",
    "cur.execute(query)\n",
    "data = cur.fetchall()\n",
    "df = pd.DataFrame(data, columns=['City', 'avg_products_per_order'])\n",
    "df.head()"
   ]
  },
  {
   "cell_type": "markdown",
   "metadata": {},
   "source": [
    "### 3. Calculate the percentage of total revenue contributed by each product category."
   ]
  },
  {
   "cell_type": "code",
   "execution_count": 145,
   "metadata": {},
   "outputs": [
    {
     "data": {
      "text/html": [
       "<div>\n",
       "<style scoped>\n",
       "    .dataframe tbody tr th:only-of-type {\n",
       "        vertical-align: middle;\n",
       "    }\n",
       "\n",
       "    .dataframe tbody tr th {\n",
       "        vertical-align: top;\n",
       "    }\n",
       "\n",
       "    .dataframe thead th {\n",
       "        text-align: right;\n",
       "    }\n",
       "</style>\n",
       "<table border=\"1\" class=\"dataframe\">\n",
       "  <thead>\n",
       "    <tr style=\"text-align: right;\">\n",
       "      <th></th>\n",
       "      <th>Category</th>\n",
       "      <th>Percentage_of_total_sales</th>\n",
       "    </tr>\n",
       "  </thead>\n",
       "  <tbody>\n",
       "    <tr>\n",
       "      <th>0</th>\n",
       "      <td>BED TABLE BATH</td>\n",
       "      <td>11.0</td>\n",
       "    </tr>\n",
       "    <tr>\n",
       "      <th>1</th>\n",
       "      <td>HEALTH BEAUTY</td>\n",
       "      <td>10.0</td>\n",
       "    </tr>\n",
       "    <tr>\n",
       "      <th>2</th>\n",
       "      <td>COMPUTER ACCESSORIES</td>\n",
       "      <td>10.0</td>\n",
       "    </tr>\n",
       "    <tr>\n",
       "      <th>3</th>\n",
       "      <td>WATCHES PRESENT</td>\n",
       "      <td>9.0</td>\n",
       "    </tr>\n",
       "    <tr>\n",
       "      <th>4</th>\n",
       "      <td>SPORT LEISURE</td>\n",
       "      <td>9.0</td>\n",
       "    </tr>\n",
       "    <tr>\n",
       "      <th>5</th>\n",
       "      <td>FURNITURE DECORATION</td>\n",
       "      <td>9.0</td>\n",
       "    </tr>\n",
       "    <tr>\n",
       "      <th>6</th>\n",
       "      <td>HOUSEWARES</td>\n",
       "      <td>7.0</td>\n",
       "    </tr>\n",
       "    <tr>\n",
       "      <th>7</th>\n",
       "      <td>COOL STUFF</td>\n",
       "      <td>5.0</td>\n",
       "    </tr>\n",
       "    <tr>\n",
       "      <th>8</th>\n",
       "      <td>AUTOMOTIVE</td>\n",
       "      <td>5.0</td>\n",
       "    </tr>\n",
       "    <tr>\n",
       "      <th>9</th>\n",
       "      <td>GARDEN TOOLS</td>\n",
       "      <td>5.0</td>\n",
       "    </tr>\n",
       "  </tbody>\n",
       "</table>\n",
       "</div>"
      ],
      "text/plain": [
       "               Category  Percentage_of_total_sales\n",
       "0        BED TABLE BATH                       11.0\n",
       "1         HEALTH BEAUTY                       10.0\n",
       "2  COMPUTER ACCESSORIES                       10.0\n",
       "3       WATCHES PRESENT                        9.0\n",
       "4         SPORT LEISURE                        9.0\n",
       "5  FURNITURE DECORATION                        9.0\n",
       "6            HOUSEWARES                        7.0\n",
       "7            COOL STUFF                        5.0\n",
       "8            AUTOMOTIVE                        5.0\n",
       "9          GARDEN TOOLS                        5.0"
      ]
     },
     "execution_count": 145,
     "metadata": {},
     "output_type": "execute_result"
    }
   ],
   "source": [
    "query = \"\"\"select UPPER(products.product_category) as category,\n",
    "round((round(sum(payments.payment_value)::numeric,2)/(select sum(payment_value)\n",
    "from payments))*100) as percentage_of_revenue\n",
    "from products\n",
    "join delivery on delivery.product_id = products.product_id\n",
    "join payments on payments.order_id = delivery.order_id\n",
    "group by category\n",
    "order by percentage_of_revenue desc\"\"\"\n",
    "\n",
    "cur.execute(query)\n",
    "data = cur.fetchall()\n",
    "df = pd.DataFrame(data, columns=['Category', 'Percentage_of_total_sales'])\n",
    "df.head(10)"
   ]
  },
  {
   "cell_type": "markdown",
   "metadata": {},
   "source": [
    "### 4. Identify the correlation between product price and the number of times a product has been purchased."
   ]
  },
  {
   "cell_type": "code",
   "execution_count": 146,
   "metadata": {},
   "outputs": [
    {
     "name": "stdout",
     "output_type": "stream",
     "text": [
      "Correlation between price and purchase count: -0.106\n"
     ]
    }
   ],
   "source": [
    "query  = \"\"\"select products.product_category,count(order_item.product_id), round(avg(order_item.price)::numeric,2) from products\n",
    "join order_item on order_item.product_id = products.product_id\n",
    "group by products.product_category order by count(order_item.product_id) desc\"\"\"\n",
    "\n",
    "cur.execute(query)\n",
    "data = cur.fetchall()\n",
    "df = pd.DataFrame(data,columns=['category','purchase_count','price'])\n",
    "d = df.head(20)\n",
    "\n",
    "\n",
    "# Calculate the correlation between price and purchase_count\n",
    "correlation = round(df['price'].corr(df['purchase_count']),3)\n",
    "print(\"Correlation between price and purchase count:\", correlation)\n"
   ]
  },
  {
   "cell_type": "markdown",
   "metadata": {},
   "source": [
    "### 5. Calculate the total revenue generated by each seller, and rank them by revenue."
   ]
  },
  {
   "cell_type": "code",
   "execution_count": 147,
   "metadata": {},
   "outputs": [
    {
     "data": {
      "image/png": "[encoded data removed]",
      "text/plain": [
       "<Figure size 640x480 with 1 Axes>"
      ]
     },
     "metadata": {},
     "output_type": "display_data"
    }
   ],
   "source": [
    "query = \"\"\"SELECT \n",
    "    *,\n",
    "    DENSE_RANK() OVER (ORDER BY revenue DESC) AS r_n\n",
    "FROM (\n",
    "    SELECT \n",
    "        sales.seller_id,\n",
    "        ROUND(SUM(payments.payment_value)::NUMERIC, 2) AS revenue\n",
    "    FROM \n",
    "        sales\n",
    "    JOIN \n",
    "        order_item ON order_item.seller_id = sales.seller_id\n",
    "    JOIN \n",
    "        orders ON orders.order_id = order_item.order_id\n",
    "    JOIN \n",
    "        payments ON payments.order_id = orders.order_id\n",
    "    GROUP BY \n",
    "        sales.seller_id\n",
    ") AS a\n",
    "ORDER BY \n",
    "    revenue DESC;\"\"\"\n",
    "\n",
    "cur.execute(query)\n",
    "data = cur.fetchall()\n",
    "df = pd.DataFrame(data, columns=['Seller','total_revenue','rank'])\n",
    "d = df.head()\n",
    "ax = sns.barplot(data= d, x='Seller',y='total_revenue')\n",
    "for col in ax.containers:\n",
    "    ax.bar_label(col)\n",
    "plt.xticks(rotation = 90)\n",
    "plt.show()"
   ]
  },
  {
   "cell_type": "markdown",
   "metadata": {},
   "source": [
    "## Advanced Queries"
   ]
  },
  {
   "cell_type": "markdown",
   "metadata": {},
   "source": [
    "### 1. Calculate the moving average of order values for each customer over their order history."
   ]
  },
  {
   "cell_type": "code",
   "execution_count": 148,
   "metadata": {},
   "outputs": [
    {
     "data": {
      "text/html": [
       "<div>\n",
       "<style scoped>\n",
       "    .dataframe tbody tr th:only-of-type {\n",
       "        vertical-align: middle;\n",
       "    }\n",
       "\n",
       "    .dataframe tbody tr th {\n",
       "        vertical-align: top;\n",
       "    }\n",
       "\n",
       "    .dataframe thead th {\n",
       "        text-align: right;\n",
       "    }\n",
       "</style>\n",
       "<table border=\"1\" class=\"dataframe\">\n",
       "  <thead>\n",
       "    <tr style=\"text-align: right;\">\n",
       "      <th></th>\n",
       "      <th>customer_id</th>\n",
       "      <th>ord_date</th>\n",
       "      <th>payment_value</th>\n",
       "      <th>moving_avg</th>\n",
       "    </tr>\n",
       "  </thead>\n",
       "  <tbody>\n",
       "    <tr>\n",
       "      <th>0</th>\n",
       "      <td>00012a2ce6f8dcda20d059ce98491703</td>\n",
       "      <td>2017-11-14 16:08:26</td>\n",
       "      <td>114.74</td>\n",
       "      <td>114.74</td>\n",
       "    </tr>\n",
       "    <tr>\n",
       "      <th>1</th>\n",
       "      <td>000161a058600d5901f007fab4c27140</td>\n",
       "      <td>2017-07-16 09:40:32</td>\n",
       "      <td>67.41</td>\n",
       "      <td>67.41</td>\n",
       "    </tr>\n",
       "    <tr>\n",
       "      <th>2</th>\n",
       "      <td>0001fd6190edaaf884bcaf3d49edf079</td>\n",
       "      <td>2017-02-28 11:06:43</td>\n",
       "      <td>195.42</td>\n",
       "      <td>195.42</td>\n",
       "    </tr>\n",
       "    <tr>\n",
       "      <th>3</th>\n",
       "      <td>0002414f95344307404f0ace7a26f1d5</td>\n",
       "      <td>2017-08-16 13:09:20</td>\n",
       "      <td>179.35</td>\n",
       "      <td>179.35</td>\n",
       "    </tr>\n",
       "    <tr>\n",
       "      <th>4</th>\n",
       "      <td>000379cdec625522490c315e70c7a9fb</td>\n",
       "      <td>2018-04-02 13:42:17</td>\n",
       "      <td>107.01</td>\n",
       "      <td>107.01</td>\n",
       "    </tr>\n",
       "    <tr>\n",
       "      <th>5</th>\n",
       "      <td>0004164d20a9e969af783496f3408652</td>\n",
       "      <td>2017-04-12 08:35:12</td>\n",
       "      <td>71.80</td>\n",
       "      <td>71.80</td>\n",
       "    </tr>\n",
       "    <tr>\n",
       "      <th>6</th>\n",
       "      <td>000419c5494106c306a97b5635748086</td>\n",
       "      <td>2018-03-02 17:47:40</td>\n",
       "      <td>49.40</td>\n",
       "      <td>49.40</td>\n",
       "    </tr>\n",
       "    <tr>\n",
       "      <th>7</th>\n",
       "      <td>00046a560d407e99b969756e0b10f282</td>\n",
       "      <td>2017-12-18 11:08:30</td>\n",
       "      <td>166.59</td>\n",
       "      <td>166.59</td>\n",
       "    </tr>\n",
       "    <tr>\n",
       "      <th>8</th>\n",
       "      <td>00050bf6e01e69d5c0fd612f1bcfb69c</td>\n",
       "      <td>2017-09-17 16:04:44</td>\n",
       "      <td>85.23</td>\n",
       "      <td>85.23</td>\n",
       "    </tr>\n",
       "    <tr>\n",
       "      <th>9</th>\n",
       "      <td>000598caf2ef4117407665ac33275130</td>\n",
       "      <td>2018-08-11 12:14:35</td>\n",
       "      <td>1255.71</td>\n",
       "      <td>1255.71</td>\n",
       "    </tr>\n",
       "  </tbody>\n",
       "</table>\n",
       "</div>"
      ],
      "text/plain": [
       "                        customer_id             ord_date  payment_value  \\\n",
       "0  00012a2ce6f8dcda20d059ce98491703  2017-11-14 16:08:26         114.74   \n",
       "1  000161a058600d5901f007fab4c27140  2017-07-16 09:40:32          67.41   \n",
       "2  0001fd6190edaaf884bcaf3d49edf079  2017-02-28 11:06:43         195.42   \n",
       "3  0002414f95344307404f0ace7a26f1d5  2017-08-16 13:09:20         179.35   \n",
       "4  000379cdec625522490c315e70c7a9fb  2018-04-02 13:42:17         107.01   \n",
       "5  0004164d20a9e969af783496f3408652  2017-04-12 08:35:12          71.80   \n",
       "6  000419c5494106c306a97b5635748086  2018-03-02 17:47:40          49.40   \n",
       "7  00046a560d407e99b969756e0b10f282  2017-12-18 11:08:30         166.59   \n",
       "8  00050bf6e01e69d5c0fd612f1bcfb69c  2017-09-17 16:04:44          85.23   \n",
       "9  000598caf2ef4117407665ac33275130  2018-08-11 12:14:35        1255.71   \n",
       "\n",
       "  moving_avg  \n",
       "0     114.74  \n",
       "1      67.41  \n",
       "2     195.42  \n",
       "3     179.35  \n",
       "4     107.01  \n",
       "5      71.80  \n",
       "6      49.40  \n",
       "7     166.59  \n",
       "8      85.23  \n",
       "9    1255.71  "
      ]
     },
     "execution_count": 148,
     "metadata": {},
     "output_type": "execute_result"
    }
   ],
   "source": [
    "query = \"\"\"select customer_id, ord_date, pyment_value,\n",
    "round(avg(pyment_value) over(partition by customer_id order by ord_date rows between 2 preceding and current row)::numeric,2)as\n",
    "avg_val\n",
    "from\n",
    "(select orders.customer_id as customer_id, orders.order_purchase_timestamp as ord_date,\n",
    "payments.payment_value as pyment_value\n",
    "from orders\n",
    "join payments on payments.order_id = orders.order_id) as a\"\"\"\n",
    "\n",
    "cur.execute(query)\n",
    "data = cur.fetchall()\n",
    "df  = pd.DataFrame(data, columns=['customer_id','ord_date','payment_value','moving_avg'])\n",
    "df.head(10)"
   ]
  },
  {
   "cell_type": "markdown",
   "metadata": {},
   "source": [
    "### 2. Calculate the cumulative sales per month for each year."
   ]
  },
  {
   "cell_type": "code",
   "execution_count": 149,
   "metadata": {},
   "outputs": [
    {
     "data": {
      "text/html": [
       "<div>\n",
       "<style scoped>\n",
       "    .dataframe tbody tr th:only-of-type {\n",
       "        vertical-align: middle;\n",
       "    }\n",
       "\n",
       "    .dataframe tbody tr th {\n",
       "        vertical-align: top;\n",
       "    }\n",
       "\n",
       "    .dataframe thead th {\n",
       "        text-align: right;\n",
       "    }\n",
       "</style>\n",
       "<table border=\"1\" class=\"dataframe\">\n",
       "  <thead>\n",
       "    <tr style=\"text-align: right;\">\n",
       "      <th></th>\n",
       "      <th>years</th>\n",
       "      <th>months_num</th>\n",
       "      <th>months_name</th>\n",
       "      <th>cumulative</th>\n",
       "    </tr>\n",
       "  </thead>\n",
       "  <tbody>\n",
       "    <tr>\n",
       "      <th>0</th>\n",
       "      <td>2016</td>\n",
       "      <td>9</td>\n",
       "      <td>September</td>\n",
       "      <td>252.24</td>\n",
       "    </tr>\n",
       "    <tr>\n",
       "      <th>1</th>\n",
       "      <td>2016</td>\n",
       "      <td>10</td>\n",
       "      <td>October</td>\n",
       "      <td>59342.74</td>\n",
       "    </tr>\n",
       "    <tr>\n",
       "      <th>2</th>\n",
       "      <td>2016</td>\n",
       "      <td>12</td>\n",
       "      <td>December</td>\n",
       "      <td>59362.36</td>\n",
       "    </tr>\n",
       "    <tr>\n",
       "      <th>3</th>\n",
       "      <td>2017</td>\n",
       "      <td>1</td>\n",
       "      <td>January</td>\n",
       "      <td>197850.36</td>\n",
       "    </tr>\n",
       "    <tr>\n",
       "      <th>4</th>\n",
       "      <td>2017</td>\n",
       "      <td>2</td>\n",
       "      <td>February</td>\n",
       "      <td>489758.36</td>\n",
       "    </tr>\n",
       "    <tr>\n",
       "      <th>5</th>\n",
       "      <td>2017</td>\n",
       "      <td>3</td>\n",
       "      <td>March</td>\n",
       "      <td>939622.36</td>\n",
       "    </tr>\n",
       "    <tr>\n",
       "      <th>6</th>\n",
       "      <td>2017</td>\n",
       "      <td>4</td>\n",
       "      <td>April</td>\n",
       "      <td>1357410.36</td>\n",
       "    </tr>\n",
       "    <tr>\n",
       "      <th>7</th>\n",
       "      <td>2017</td>\n",
       "      <td>5</td>\n",
       "      <td>May</td>\n",
       "      <td>1950329.36</td>\n",
       "    </tr>\n",
       "    <tr>\n",
       "      <th>8</th>\n",
       "      <td>2017</td>\n",
       "      <td>6</td>\n",
       "      <td>June</td>\n",
       "      <td>2461606.36</td>\n",
       "    </tr>\n",
       "    <tr>\n",
       "      <th>9</th>\n",
       "      <td>2017</td>\n",
       "      <td>7</td>\n",
       "      <td>July</td>\n",
       "      <td>3053989.36</td>\n",
       "    </tr>\n",
       "    <tr>\n",
       "      <th>10</th>\n",
       "      <td>2017</td>\n",
       "      <td>8</td>\n",
       "      <td>August</td>\n",
       "      <td>3728386.36</td>\n",
       "    </tr>\n",
       "    <tr>\n",
       "      <th>11</th>\n",
       "      <td>2017</td>\n",
       "      <td>9</td>\n",
       "      <td>September</td>\n",
       "      <td>4456148.36</td>\n",
       "    </tr>\n",
       "    <tr>\n",
       "      <th>12</th>\n",
       "      <td>2017</td>\n",
       "      <td>10</td>\n",
       "      <td>October</td>\n",
       "      <td>5235826.36</td>\n",
       "    </tr>\n",
       "    <tr>\n",
       "      <th>13</th>\n",
       "      <td>2017</td>\n",
       "      <td>11</td>\n",
       "      <td>November</td>\n",
       "      <td>6430706.36</td>\n",
       "    </tr>\n",
       "    <tr>\n",
       "      <th>14</th>\n",
       "      <td>2017</td>\n",
       "      <td>12</td>\n",
       "      <td>December</td>\n",
       "      <td>7309108.36</td>\n",
       "    </tr>\n",
       "    <tr>\n",
       "      <th>15</th>\n",
       "      <td>2018</td>\n",
       "      <td>1</td>\n",
       "      <td>January</td>\n",
       "      <td>8424108.36</td>\n",
       "    </tr>\n",
       "    <tr>\n",
       "      <th>16</th>\n",
       "      <td>2018</td>\n",
       "      <td>2</td>\n",
       "      <td>February</td>\n",
       "      <td>9416572.36</td>\n",
       "    </tr>\n",
       "    <tr>\n",
       "      <th>17</th>\n",
       "      <td>2018</td>\n",
       "      <td>3</td>\n",
       "      <td>March</td>\n",
       "      <td>10576222.36</td>\n",
       "    </tr>\n",
       "    <tr>\n",
       "      <th>18</th>\n",
       "      <td>2018</td>\n",
       "      <td>4</td>\n",
       "      <td>April</td>\n",
       "      <td>11737002.36</td>\n",
       "    </tr>\n",
       "    <tr>\n",
       "      <th>19</th>\n",
       "      <td>2018</td>\n",
       "      <td>5</td>\n",
       "      <td>May</td>\n",
       "      <td>12890982.36</td>\n",
       "    </tr>\n",
       "    <tr>\n",
       "      <th>20</th>\n",
       "      <td>2018</td>\n",
       "      <td>6</td>\n",
       "      <td>June</td>\n",
       "      <td>13914862.36</td>\n",
       "    </tr>\n",
       "    <tr>\n",
       "      <th>21</th>\n",
       "      <td>2018</td>\n",
       "      <td>7</td>\n",
       "      <td>July</td>\n",
       "      <td>14981402.36</td>\n",
       "    </tr>\n",
       "    <tr>\n",
       "      <th>22</th>\n",
       "      <td>2018</td>\n",
       "      <td>8</td>\n",
       "      <td>August</td>\n",
       "      <td>16003822.36</td>\n",
       "    </tr>\n",
       "    <tr>\n",
       "      <th>23</th>\n",
       "      <td>2018</td>\n",
       "      <td>9</td>\n",
       "      <td>September</td>\n",
       "      <td>16008261.90</td>\n",
       "    </tr>\n",
       "    <tr>\n",
       "      <th>24</th>\n",
       "      <td>2018</td>\n",
       "      <td>10</td>\n",
       "      <td>October</td>\n",
       "      <td>16008851.57</td>\n",
       "    </tr>\n",
       "  </tbody>\n",
       "</table>\n",
       "</div>"
      ],
      "text/plain": [
       "   years months_num months_name   cumulative\n",
       "0   2016          9   September       252.24\n",
       "1   2016         10   October       59342.74\n",
       "2   2016         12   December      59362.36\n",
       "3   2017          1   January      197850.36\n",
       "4   2017          2   February     489758.36\n",
       "5   2017          3   March        939622.36\n",
       "6   2017          4   April       1357410.36\n",
       "7   2017          5   May         1950329.36\n",
       "8   2017          6   June        2461606.36\n",
       "9   2017          7   July        3053989.36\n",
       "10  2017          8   August      3728386.36\n",
       "11  2017          9   September   4456148.36\n",
       "12  2017         10   October     5235826.36\n",
       "13  2017         11   November    6430706.36\n",
       "14  2017         12   December    7309108.36\n",
       "15  2018          1   January     8424108.36\n",
       "16  2018          2   February    9416572.36\n",
       "17  2018          3   March      10576222.36\n",
       "18  2018          4   April      11737002.36\n",
       "19  2018          5   May        12890982.36\n",
       "20  2018          6   June       13914862.36\n",
       "21  2018          7   July       14981402.36\n",
       "22  2018          8   August     16003822.36\n",
       "23  2018          9   September  16008261.90\n",
       "24  2018         10   October    16008851.57"
      ]
     },
     "execution_count": 149,
     "metadata": {},
     "output_type": "execute_result"
    }
   ],
   "source": [
    "query = \"\"\"select years, months_no, months, sum(payments) over(order by years,months_no) as cumulative\n",
    "from\n",
    "(select extract(year from order_purchase_timestamp::date) as years,\n",
    "extract(month from order_purchase_timestamp::date) as months_no,\n",
    "TO_CHAR(order_purchase_timestamp::timestamp,'Month') as months,\n",
    "round(sum(payments.payment_value)::numeric,2) as payments\n",
    "from orders\n",
    "join payments on payments.order_id = orders.order_id\n",
    "group by years,months_no,months\n",
    "order by years,months_no) as a\"\"\"\n",
    "\n",
    "\n",
    "cur.execute(query)\n",
    "data = cur.fetchall()\n",
    "df = pd.DataFrame(data,columns=['years','months_num', 'months_name','cumulative'])\n",
    "df"
   ]
  },
  {
   "cell_type": "markdown",
   "metadata": {},
   "source": [
    "### 3. Calculate the year over year growth rate of total sales."
   ]
  },
  {
   "cell_type": "code",
   "execution_count": 151,
   "metadata": {},
   "outputs": [
    {
     "data": {
      "text/html": [
       "<div>\n",
       "<style scoped>\n",
       "    .dataframe tbody tr th:only-of-type {\n",
       "        vertical-align: middle;\n",
       "    }\n",
       "\n",
       "    .dataframe tbody tr th {\n",
       "        vertical-align: top;\n",
       "    }\n",
       "\n",
       "    .dataframe thead th {\n",
       "        text-align: right;\n",
       "    }\n",
       "</style>\n",
       "<table border=\"1\" class=\"dataframe\">\n",
       "  <thead>\n",
       "    <tr style=\"text-align: right;\">\n",
       "      <th></th>\n",
       "      <th>years</th>\n",
       "      <th>yoy_%_growth</th>\n",
       "    </tr>\n",
       "  </thead>\n",
       "  <tbody>\n",
       "    <tr>\n",
       "      <th>0</th>\n",
       "      <td>2016</td>\n",
       "      <td>None</td>\n",
       "    </tr>\n",
       "    <tr>\n",
       "      <th>1</th>\n",
       "      <td>2017</td>\n",
       "      <td>12113</td>\n",
       "    </tr>\n",
       "    <tr>\n",
       "      <th>2</th>\n",
       "      <td>2018</td>\n",
       "      <td>20</td>\n",
       "    </tr>\n",
       "  </tbody>\n",
       "</table>\n",
       "</div>"
      ],
      "text/plain": [
       "  years yoy_%_growth\n",
       "0  2016         None\n",
       "1  2017        12113\n",
       "2  2018           20"
      ]
     },
     "execution_count": 151,
     "metadata": {},
     "output_type": "execute_result"
    }
   ],
   "source": [
    "query = \"\"\"\n",
    "select years, round(((payment - lag(payment) over(order by years))/(lag(payment) over(order by years)))*100)\n",
    "from\n",
    "(select extract(year from order_purchase_timestamp::date) as years, round(sum(payments.payment_value)::numeric,2) as payment\n",
    "from orders\n",
    "join payments on payments.order_id = orders.order_id\n",
    "group by years) as a\n",
    "\n",
    "\"\"\"\n",
    "\n",
    "cur.execute(query)\n",
    "data = cur.fetchall()\n",
    "df = pd.DataFrame(data,columns=['years','yoy_%_growth'])\n",
    "df"
   ]
  },
  {
   "cell_type": "markdown",
   "metadata": {},
   "source": [
    "## 4. Calculate the retention rate of customers, defined as the percentage of customers who make another purchase within 6 months of their first     purchase."
   ]
  },
  {
   "cell_type": "code",
   "execution_count": 153,
   "metadata": {},
   "outputs": [
    {
     "data": {
      "text/html": [
       "<div>\n",
       "<style scoped>\n",
       "    .dataframe tbody tr th:only-of-type {\n",
       "        vertical-align: middle;\n",
       "    }\n",
       "\n",
       "    .dataframe tbody tr th {\n",
       "        vertical-align: top;\n",
       "    }\n",
       "\n",
       "    .dataframe thead th {\n",
       "        text-align: right;\n",
       "    }\n",
       "</style>\n",
       "<table border=\"1\" class=\"dataframe\">\n",
       "  <thead>\n",
       "    <tr style=\"text-align: right;\">\n",
       "      <th></th>\n",
       "      <th>customer_id</th>\n",
       "      <th>ord_count</th>\n",
       "    </tr>\n",
       "  </thead>\n",
       "  <tbody>\n",
       "  </tbody>\n",
       "</table>\n",
       "</div>"
      ],
      "text/plain": [
       "Empty DataFrame\n",
       "Columns: [customer_id, ord_count]\n",
       "Index: []"
      ]
     },
     "execution_count": 153,
     "metadata": {},
     "output_type": "execute_result"
    }
   ],
   "source": [
    "query = \"\"\"DROP VIEW IF EXISTS a;\n",
    "\n",
    "CREATE VIEW a AS (\n",
    "    SELECT \n",
    "        customers.customer_id,\n",
    "        MIN(orders.order_purchase_timestamp::timestamp) AS first_ord\n",
    "    FROM \n",
    "        customers\n",
    "    JOIN \n",
    "        orders ON orders.customer_id = customers.customer_id\n",
    "    GROUP BY \n",
    "        customers.customer_id\n",
    ");\n",
    "\n",
    "SELECT \n",
    "    a.customer_id,\n",
    "    COUNT(DISTINCT orders.order_purchase_timestamp) AS order_count\n",
    "FROM \n",
    "    a\n",
    "JOIN \n",
    "    orders ON orders.customer_id = a.customer_id\n",
    "    AND orders.order_purchase_timestamp::timestamp > first_ord\n",
    "    AND orders.order_purchase_timestamp::timestamp < first_ord + INTERVAL '18 months'\n",
    "GROUP BY \n",
    "    a.customer_id;\n",
    "\"\"\"\n",
    "\n",
    "cur.execute(query)\n",
    "data = cur.fetchall()\n",
    "df = pd.DataFrame(data,columns=['customer_id','ord_count'])\n",
    "df"
   ]
  },
  {
   "cell_type": "code",
   "execution_count": null,
   "metadata": {},
   "outputs": [],
   "source": []
  }
 ],
 "metadata": {
  "kernelspec": {
   "display_name": "Python 3",
   "language": "python",
   "name": "python3"
  },
  "language_info": {
   "codemirror_mode": {
    "name": "ipython",
    "version": 3
   },
   "file_extension": ".py",
   "mimetype": "text/x-python",
   "name": "python",
   "nbconvert_exporter": "python",
   "pygments_lexer": "ipython3",
   "version": "3.12.3"
  }
 },
 "nbformat": 4,
 "nbformat_minor": 2
}
